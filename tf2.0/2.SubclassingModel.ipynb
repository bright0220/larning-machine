{
 "cells": [
  {
   "cell_type": "markdown",
   "metadata": {},
   "source": [
    "Bài viết tham khảo tại [nguồn](https://www.pyimagesearch.com/2019/10/28/3-ways-to-create-a-keras-model-with-tensorflow-2-0-sequential-functional-and-model-subclassing)"
   ]
  },
  {
   "cell_type": "markdown",
   "metadata": {},
   "source": [
    "#### 1. Thêm các thư viện cần thiết"
   ]
  },
  {
   "cell_type": "code",
   "execution_count": 81,
   "metadata": {},
   "outputs": [],
   "source": [
    "\n",
    "from tensorflow.keras.models import Model\n",
    "from tensorflow.keras.models import Sequential\n",
    "from tensorflow.keras.layers import BatchNormalization\n",
    "from tensorflow.keras.layers import AveragePooling2D\n",
    "from tensorflow.keras.layers import MaxPooling2D\n",
    "from tensorflow.keras.layers import Conv2D\n",
    "from tensorflow.keras.layers import Activation\n",
    "from tensorflow.keras.layers import Dropout\n",
    "from tensorflow.keras.layers import Flatten\n",
    "from tensorflow.keras.layers import Input\n",
    "from tensorflow.keras.layers import Dense\n",
    "from tensorflow.keras.layers import concatenate"
   ]
  },
  {
   "cell_type": "markdown",
   "metadata": {},
   "source": [
    "#### 2. Thiết kế model"
   ]
  },
  {
   "cell_type": "code",
   "execution_count": 109,
   "metadata": {},
   "outputs": [],
   "source": [
    "class MiniVGGModel(Model):\n",
    "    def __init__(self, classes):\n",
    "\n",
    "        super(MiniVGGModel, self).__init__()\n",
    "    \n",
    "        # Block 1\n",
    "        self.conv1A = Conv2D(64, (3, 3), padding=\"same\")\n",
    "        self.act1A = Activation(\"relu\")\n",
    "        self.bn1A = BatchNormalization()\n",
    "        \n",
    "        self.conv1B = Conv2D(64, (3, 3), padding=\"same\")\n",
    "        self.act1B = Activation(\"relu\")\n",
    "        self.bn1B = BatchNormalization()\n",
    "        \n",
    "        self.pool1 = MaxPooling2D(pool_size=(2,2))\n",
    "        \n",
    "        \n",
    "        # Block 2. Padding Same nghĩa là duy trì kích thước đầu ra tương tự đầu vào, phần bị lược bỏ bằng Kernel sẽ \n",
    "        # được thay thế bằng 0.\n",
    "        \n",
    "        self.conv2A = Conv2D(32, (3, 3), padding=\"same\")\n",
    "        self.act2A = Activation(\"relu\")\n",
    "        self.bn2A = BatchNormalization()\n",
    "        \n",
    "        self.conv2B = Conv2D(32, (3, 3), padding=\"same\")\n",
    "        self.act2B = Activation(\"relu\")\n",
    "        self.bn2B = BatchNormalization()\n",
    "        \n",
    "        self.pool2 = MaxPooling2D(pool_size=(2,2))\n",
    "        \n",
    "        # 2 Block này gần giống nhau dùng Conv2D để trích xuất đặc trưng của anh và loại bổ data không cần thiết.\n",
    "        # Đầu ra của hàm Activation (Phi tuyến) sẽ được chuẩn hoá lại BatchNorm nhằm đảm bảo qua mỗi block, phân\n",
    "        # bố của anh không bị thay đổi quá nhiều\n",
    "        \n",
    "        \n",
    "        self.flatten = Flatten()\n",
    "        self.dense3 = Dense(512)\n",
    "        self.act3 = Activation(\"relu\")\n",
    "        self.bn3 = BatchNormalization()\n",
    "        self.do3 = Dropout(0.5)\n",
    "        \n",
    "        # Sau khi qua mạng trích xuất đặc trưng data được duỗi thành cỡ 512*1 và đưa vào một neural network không \n",
    "        # kết nối đầy đủ với tỉ lệ Dropout là 0.5 (Kỹ thuật Dropout là kỹ thuật tắt một số lượng nút trong mạng bất kỳ)\n",
    "        # dựa trên một tỉ lệ cho trước\n",
    "        \n",
    "        self.dense4 = Dense(classes)\n",
    "        self.softmax = Activation(\"softmax\")\n",
    "        \n",
    "        # Mạng Neural Network này có đầu ra là một lớp Softmax với 10 nhãn cho trước.\n",
    "        \n",
    "    \n",
    "    def call(self, inputs):\n",
    "        \n",
    "        # Block 1. Lần lượt đưa dữ liệu qua các lớp.\n",
    "        \n",
    "        x = self.conv1A(inputs)\n",
    "        x = self.act1A(x)\n",
    "        x = self.bn1A(x)\n",
    "    \n",
    "        x = self.conv1B(x)\n",
    "        x = self.act1B(x)\n",
    "        x = self.bn1B(x)\n",
    "        x = self.pool1(x)\n",
    "        \n",
    "        \n",
    "        # Block 2\n",
    "        \n",
    "        x = self.conv2A(x)\n",
    "        x = self.act2A(x)\n",
    "        x = self.bn2A(x)\n",
    "        \n",
    "        x = self.conv2B(x)\n",
    "        x = self.act2B(x)\n",
    "        x = self.bn2B(x)\n",
    "        \n",
    "        x = self.pool2(x)\n",
    "        \n",
    "        # Block 3\n",
    "        \n",
    "        x = self.flatten(x)\n",
    "        x = self.dense3(x)\n",
    "        x = self.act3(x)\n",
    "        x = self.bn3(x)\n",
    "        x = self.do3(x)\n",
    "        \n",
    "        \n",
    "        # Block 4\n",
    "        \n",
    "        x = self.dense4(x)\n",
    "        x = self.softmax(x)\n",
    "        \n",
    "        return x"
   ]
  },
  {
   "cell_type": "markdown",
   "metadata": {},
   "source": [
    "#### 3.Tải dữ liệu và chuẩn hoá"
   ]
  },
  {
   "cell_type": "markdown",
   "metadata": {},
   "source": [
    "<img src=\"./img/cifa.png\" width=600/>"
   ]
  },
  {
   "cell_type": "code",
   "execution_count": 96,
   "metadata": {},
   "outputs": [],
   "source": [
    "from tensorflow.keras.datasets import cifar10"
   ]
  },
  {
   "cell_type": "code",
   "execution_count": 97,
   "metadata": {},
   "outputs": [],
   "source": [
    "((trainX, trainY), (testX, testY)) = cifar10.load_data()"
   ]
  },
  {
   "cell_type": "markdown",
   "metadata": {},
   "source": [
    "Đưa dữ liệu về trong khoảng (0,1). Tại sao phải làm như thế này thì tôi đã giải thích tại bài trước. [Xem ở đây](./setup-and-first-code.ipynb)"
   ]
  },
  {
   "cell_type": "code",
   "execution_count": 98,
   "metadata": {},
   "outputs": [],
   "source": [
    "trainX = trainX.astype(\"float32\") / 255.0\n",
    "testX = testX.astype(\"float32\") / 255.0"
   ]
  },
  {
   "cell_type": "markdown",
   "metadata": {},
   "source": [
    "Nhãn được đánh từ 0 đến 9 tương đương với danh sách dưới đây"
   ]
  },
  {
   "cell_type": "code",
   "execution_count": 99,
   "metadata": {},
   "outputs": [],
   "source": [
    "labelNames = [\"airplane\", \"automobile\", \"bird\", \"cat\", \"deer\", \"dog\", \"frog\", \"horse\", \"ship\", \"truck\"]"
   ]
  },
  {
   "cell_type": "markdown",
   "metadata": {},
   "source": [
    "Chuyển về dạng one hot."
   ]
  },
  {
   "cell_type": "markdown",
   "metadata": {},
   "source": [
    "One hot chỉ là cách chuyển nhãn về sao cho đảm bảo tính tương đồng của các nhãn với nhau. Hình ảnh dưới đây minh hoạ ma trận onehot."
   ]
  },
  {
   "cell_type": "markdown",
   "metadata": {},
   "source": [
    "<img src=\"./img/onehot.jpeg\" width=600/>"
   ]
  },
  {
   "cell_type": "code",
   "execution_count": 100,
   "metadata": {},
   "outputs": [],
   "source": [
    "from sklearn.preprocessing import LabelBinarizer\n",
    "from tensorflow.keras.preprocessing.image import ImageDataGenerator\n",
    "from tensorflow.keras.optimizers import SGD"
   ]
  },
  {
   "cell_type": "code",
   "execution_count": 101,
   "metadata": {},
   "outputs": [],
   "source": [
    "lb = LabelBinarizer()\n",
    "trainY = lb.fit_transform(trainY)\n",
    "testY = lb.transform(testY)"
   ]
  },
  {
   "cell_type": "code",
   "execution_count": 102,
   "metadata": {},
   "outputs": [
    {
     "data": {
      "text/plain": [
       "array([[0, 0, 0, ..., 0, 0, 0],\n",
       "       [0, 0, 0, ..., 0, 1, 0],\n",
       "       [0, 0, 0, ..., 0, 1, 0],\n",
       "       ...,\n",
       "       [0, 0, 0, ..., 0, 0, 0],\n",
       "       [0, 1, 0, ..., 0, 0, 0],\n",
       "       [0, 0, 0, ..., 1, 0, 0]])"
      ]
     },
     "execution_count": 102,
     "metadata": {},
     "output_type": "execute_result"
    }
   ],
   "source": [
    "testY"
   ]
  },
  {
   "cell_type": "markdown",
   "metadata": {},
   "source": [
    "#### 4. Tăng cường data khi train"
   ]
  },
  {
   "cell_type": "markdown",
   "metadata": {},
   "source": [
    "Ta có thể xoay, zoom to, thay đổi kích cỡ để có nhiều đặc trưng hơn mà vẫn giữ nguyên nhãn"
   ]
  },
  {
   "cell_type": "markdown",
   "metadata": {},
   "source": [
    "Xem kỹ hơn về tăng cường data [tại đây:](https://github.com/bangoc123/learn-machine-learning-in-two-months/blob/master/data-processing/ImageAugmentation.ipynb?fbclid=IwAR2WIgr3FqjGRhWaFENLiFEl4MPO4HKGfGUmRIIsM54EF_bF8_3QhsDN7rg)"
   ]
  },
  {
   "cell_type": "code",
   "execution_count": 118,
   "metadata": {},
   "outputs": [],
   "source": [
    "aug = ImageDataGenerator(rotation_range=18, zoom_range=0.15, width_shift_range=0.2, height_shift_range=0.2, shear_range=0.15, horizontal_flip=True, fill_mode=\"nearest\")"
   ]
  },
  {
   "cell_type": "code",
   "execution_count": 104,
   "metadata": {},
   "outputs": [],
   "source": [
    "model = MiniVGGModel(len(labelNames))"
   ]
  },
  {
   "cell_type": "markdown",
   "metadata": {},
   "source": [
    "#### 5. Đặt các hyperparameter"
   ]
  },
  {
   "cell_type": "code",
   "execution_count": 105,
   "metadata": {},
   "outputs": [],
   "source": [
    "learning_rate = 1e-2\n",
    "batch_size = 64\n",
    "num_epochs = 30 # Accuracy: 74% within 30 epochs"
   ]
  },
  {
   "cell_type": "markdown",
   "metadata": {},
   "source": [
    "Sử dụng thuật toán tối ưu Stochastic gradient descent thay vì feed toàn bộ data trong mỗi epoch mà chia thành từng batch nhỏ."
   ]
  },
  {
   "cell_type": "code",
   "execution_count": 106,
   "metadata": {},
   "outputs": [],
   "source": [
    "opt = SGD(lr=learning_rate, momentum=0.9, decay=learning_rate / num_epochs)\n",
    "model.compile(loss=\"categorical_crossentropy\", optimizer=opt, metrics=[\"accuracy\"])"
   ]
  },
  {
   "cell_type": "markdown",
   "metadata": {},
   "source": [
    "Tiến hành training"
   ]
  },
  {
   "cell_type": "code",
   "execution_count": null,
   "metadata": {
    "scrolled": true
   },
   "outputs": [],
   "source": [
    "print(\"Start Training...\")\n",
    "H = model.fit_generator(aug.flow(trainX, trainY, batch_size=batch_size), validation_data=(testX, testY), \n",
    "                        steps_per_epoch=trainX.shape[0] // batch_size, epochs=num_epochs, verbose=1)"
   ]
  },
  {
   "cell_type": "markdown",
   "metadata": {},
   "source": [
    "Save model lại."
   ]
  },
  {
   "cell_type": "code",
   "execution_count": 115,
   "metadata": {},
   "outputs": [
    {
     "name": "stdout",
     "output_type": "stream",
     "text": [
      "WARNING:tensorflow:From /Library/Frameworks/Python.framework/Versions/3.7/lib/python3.7/site-packages/tensorflow_core/python/ops/resource_variable_ops.py:1781: calling BaseResourceVariable.__init__ (from tensorflow.python.ops.resource_variable_ops) with constraint is deprecated and will be removed in a future version.\n",
      "Instructions for updating:\n",
      "If using Keras pass *_constraint arguments to layers.\n",
      "INFO:tensorflow:Assets written to: final/assets\n"
     ]
    }
   ],
   "source": [
    "model.save(\"final\", save_format='tf')"
   ]
  },
  {
   "cell_type": "markdown",
   "metadata": {},
   "source": [
    "#### 6 Kết quả và Inference"
   ]
  },
  {
   "cell_type": "markdown",
   "metadata": {},
   "source": [
    "Tôi đang train trên Colab gần xong rồi, khi nào có kết quả sẽ viết tiếp phần Inference. Độ chính xác đang là 77%"
   ]
  },
  {
   "cell_type": "markdown",
   "metadata": {},
   "source": [
    "<img src=\"./img/training.png\" width=600/>"
   ]
  },
  {
   "cell_type": "code",
   "execution_count": null,
   "metadata": {},
   "outputs": [],
   "source": []
  }
 ],
 "metadata": {
  "kernelspec": {
   "display_name": "Python 3",
   "language": "python",
   "name": "python3"
  },
  "language_info": {
   "codemirror_mode": {
    "name": "ipython",
    "version": 3
   },
   "file_extension": ".py",
   "mimetype": "text/x-python",
   "name": "python",
   "nbconvert_exporter": "python",
   "pygments_lexer": "ipython3",
   "version": "3.7.4"
  }
 },
 "nbformat": 4,
 "nbformat_minor": 2
}
