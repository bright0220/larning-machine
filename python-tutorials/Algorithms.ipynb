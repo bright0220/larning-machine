{
 "cells": [
  {
   "cell_type": "markdown",
   "metadata": {},
   "source": [
    "### Bubble Sort"
   ]
  },
  {
   "cell_type": "code",
   "execution_count": 17,
   "metadata": {},
   "outputs": [],
   "source": [
    "numbers = [20, 10, 16, 6, 89]"
   ]
  },
  {
   "cell_type": "code",
   "execution_count": 15,
   "metadata": {},
   "outputs": [],
   "source": [
    "for i in range(0, len(numbers)-1):\n",
    "    for j in (i+1, len(numbers)-1):\n",
    "        if numbers[i] < numbers[j]:\n",
    "            temp = numbers[j]\n",
    "            numbers[j] = numbers[i]\n",
    "            numbers[i] = temp\n",
    "            "
   ]
  },
  {
   "cell_type": "code",
   "execution_count": 18,
   "metadata": {},
   "outputs": [
    {
     "data": {
      "text/plain": [
       "[20, 10, 16, 6, 89]"
      ]
     },
     "execution_count": 18,
     "metadata": {},
     "output_type": "execute_result"
    }
   ],
   "source": [
    "numbers"
   ]
  },
  {
   "cell_type": "markdown",
   "metadata": {},
   "source": [
    "### Insertion Sort"
   ]
  },
  {
   "cell_type": "code",
   "execution_count": 25,
   "metadata": {},
   "outputs": [],
   "source": [
    "numbers = [20, 10, 16, 6, 89]"
   ]
  },
  {
   "cell_type": "code",
   "execution_count": 22,
   "metadata": {},
   "outputs": [],
   "source": [
    "for i in range(len(numbers) -1):\n",
    "    if i > 0:\n",
    "        for j in range(i+1):\n",
    "            if numbers[i] < numbers[j]:\n",
    "                temp = numbers[i]\n",
    "                numbers[i] = numbers[j]\n",
    "                numbers[j] = temp\n",
    "                 "
   ]
  },
  {
   "cell_type": "code",
   "execution_count": 23,
   "metadata": {},
   "outputs": [
    {
     "data": {
      "text/plain": [
       "[6, 10, 16, 20, 89]"
      ]
     },
     "execution_count": 23,
     "metadata": {},
     "output_type": "execute_result"
    }
   ],
   "source": [
    "numbers"
   ]
  },
  {
   "cell_type": "markdown",
   "metadata": {},
   "source": [
    "### Replace String only use another String"
   ]
  },
  {
   "cell_type": "markdown",
   "metadata": {},
   "source": [
    "![](https://lh3.googleusercontent.com/BQ0X68Y2yGZ1uu9gOlAd8V40Tdi5SsZrme9FWF_gsHaJ7H2Tg4JZs06PqrjeSttTZBi6wxdOGcJ9BlAcf-wcrAzL2rVIfmC5kKlGvUVs0iBgXYPAaloljWtAmFlbg0V5H7s5dbg_-ZsdKFejHCxZdnRmITY8b27d4r6pN1fosBogozAVVLlQbtqaZ9-03qbnmVROvfFg6I_2nzZ84V849NF0o_rv3-sJQ6YT7WWb6u1jgTCbv9IxM5RmNUdgvl7blcuBl4QCe0v6dpFhWiP62ikneiU6l3FLzjIGHjsbKXxKSNFEAoEV5fglOfPS6wy6InQGL_45ykDIAKGsO2KQznHw17D2y6gdSHxUBDJ0EdEEuwQNsh3TVr0p3K3GPileWvAByDX-UcE1ZpvMy_BYFLJVMRbu0QBZ8PfuvUKeT3Y0fxI4EdbOZthEwemY2EgUeU_5jafmr_tb58i7kY4xeSa5YCqjF_IozIM59vfXkCIrdUecW2vqJ2YMigv5U_DhC1j797XAxLXKRM93vw81qVDjJIgyuQOImLhPM9KkHLImCfpU77xR54BDXYuT_JsHkjJdTq5hc8ZxbXpJMLIIfWv2WNrrs8e5Ywz7bkvWX5oyVcKx1HmJwdVff9lPE2LYpqRdbKdsTF96t4IrjylzyE2M-ZQIpcr1ur-TkI0ya6omK03vQ7R-UdrM9g=w519-h387-no)"
   ]
  },
  {
   "cell_type": "code",
   "execution_count": 2,
   "metadata": {},
   "outputs": [
    {
     "name": "stdout",
     "output_type": "stream",
     "text": [
      "This is the original message used\n",
      "Thos os thi urogonel missegi asid\n",
      "disa igessim lenogoru iht so sohT\n"
     ]
    }
   ],
   "source": [
    "names = \"This is the original message used\"\n",
    "names2 = \"\"\n",
    "for i in range(len(names)):\n",
    "    if names[i] == \"a\":\n",
    "        names2 = names2 + \"e\"\n",
    "    elif names[i] == \"e\":\n",
    "        names2 = names2 + \"i\"\n",
    "    elif names[i] == \"i\":\n",
    "        names2 = names2 + \"o\"\n",
    "    elif names[i] == \"o\":\n",
    "        names2 = names2 + \"u\"\n",
    "    elif names[i] == \"u\":\n",
    "        names2 = names2 + \"a\"\n",
    "    else:\n",
    "        names2 = names2 + names[i]\n",
    "print(names)\n",
    "print(names2)\n",
    "print(names2[::-1])"
   ]
  }
 ],
 "metadata": {
  "kernelspec": {
   "display_name": "Python 2",
   "language": "python",
   "name": "python2"
  },
  "language_info": {
   "codemirror_mode": {
    "name": "ipython",
    "version": 2
   },
   "file_extension": ".py",
   "mimetype": "text/x-python",
   "name": "python",
   "nbconvert_exporter": "python",
   "pygments_lexer": "ipython2",
   "version": "2.7.14"
  }
 },
 "nbformat": 4,
 "nbformat_minor": 2
}
