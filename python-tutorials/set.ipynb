{
 "cells": [
  {
   "cell_type": "markdown",
   "metadata": {},
   "source": [
    "## Set\n",
    "----"
   ]
  },
  {
   "cell_type": "markdown",
   "metadata": {},
   "source": [
    "Xem thêm về [Set](https://www.tutorialspoint.com/python/python_sets.htm)"
   ]
  },
  {
   "cell_type": "markdown",
   "metadata": {},
   "source": [
    "![](https://lh3.googleusercontent.com/NZlbtOuh5f3gSVLkJwD7waPQ7FrI_O91DRZsU7oSkt1YL-eENHVpM688S7IR2vXQAAMxPQ6I0RpsQPCfIcwIiOP3ynrPd29wl_wu4ldXJFTgbq00OxC-FA8HNeJ4Ughp32aGgIu03V1K4crVHF-DR6THuMHCvoo_sbbcCGA2IYRscOxW3jtUDxpAJLwlwly9qY7GX59meaeHOb3stvQo30Jx4gfxtHNBcE5-7fqd6DOKUHieoy6I4cyb7OpJzSySwDlts2-J1NgNQKtkqileuKOJCFzJY3gA-1JGFOgY5UU8XnPZ36yelqJ7I__PbzCZVDaxuhU5yqE-VJD3kHwr4UD13UMBBYjU53MtKwgdvSsA-9ff2gnJoL87XmgiUEYR_N9j91W-NZUy09BEQOxgt32BLqK-xdnyTGcq4OqZnJlZCnYYjxBg_mMV11BwtqOwr2Yj6p4mr305pnR28B0vrUDAfPoLz-zMe5CeEHx-A_FkEVyz6zCczEAnGtkYDT1UXXZ9MeN1b_sMz1fQw3jR5gpI-3Y53rmpkSr1TXkcjz0GwctxjauRdCQ3say_BNRJScRQpvJpEvCVMHSUEOaLg9yDEOSLjRuT4R7rPMXuBS25KPDgrenM-J6Ahbfe5PxWYoew22tVnLmK6H6ymv1XGagsccnHZO9Vyw=w737-h839-no)"
   ]
  },
  {
   "cell_type": "markdown",
   "metadata": {},
   "source": [
    "Set trong Tiếng Việt Toán học có thể dịch ra là Tập hợp với các tính chất\n",
    "    - Tập hợp các phần tử sắp xếp không có thứ tự\n",
    "    - Mỗi phần tử là độc nhất (Unique) và phải là bất biến(immutable) \n",
    "    - Trái lại bản thân Set là khả biến(mutable), chúng ta có thể thêm, xóa phần tử của Set"
   ]
  },
  {
   "cell_type": "markdown",
   "metadata": {},
   "source": [
    "### I. Khởi tạo một Set"
   ]
  },
  {
   "cell_type": "markdown",
   "metadata": {},
   "source": [
    "##### 1. Cách 1"
   ]
  },
  {
   "cell_type": "code",
   "execution_count": 75,
   "metadata": {},
   "outputs": [],
   "source": [
    "# Set chỉ chứa số\n",
    "number_set = { 1, 2, 4, 5, 6, 8, 10 }"
   ]
  },
  {
   "cell_type": "code",
   "execution_count": 76,
   "metadata": {},
   "outputs": [],
   "source": [
    "# Set chứa nhiều kiểu dữ liệu khác nhau\n",
    "mix_set = { \"Ngoc\", 34, (4, 5, 6) }"
   ]
  },
  {
   "cell_type": "code",
   "execution_count": 77,
   "metadata": {},
   "outputs": [],
   "source": [
    "# Nhưng các kiểu dữ liệu này phải bất biến như Integer, Float, Boolean hay Tuple"
   ]
  },
  {
   "cell_type": "code",
   "execution_count": 78,
   "metadata": {},
   "outputs": [
    {
     "ename": "TypeError",
     "evalue": "unhashable type: 'list'",
     "output_type": "error",
     "traceback": [
      "\u001b[1;31m---------------------------------------------------------------------------\u001b[0m",
      "\u001b[1;31mTypeError\u001b[0m                                 Traceback (most recent call last)",
      "\u001b[1;32m<ipython-input-78-0c98884fe61c>\u001b[0m in \u001b[0;36m<module>\u001b[1;34m()\u001b[0m\n\u001b[0;32m      1\u001b[0m \u001b[1;31m# Python sẽ báo lỗi nếu bạn đặt một biến khả biến trong Set\u001b[0m\u001b[1;33m\u001b[0m\u001b[1;33m\u001b[0m\u001b[0m\n\u001b[0;32m      2\u001b[0m \u001b[1;31m# trường hợp tôi đặt một list trong Set\u001b[0m\u001b[1;33m\u001b[0m\u001b[1;33m\u001b[0m\u001b[0m\n\u001b[1;32m----> 3\u001b[1;33m \u001b[0mmix_mutable_set\u001b[0m \u001b[1;33m=\u001b[0m \u001b[1;33m{\u001b[0m \u001b[1;34m\"Elon Musk\"\u001b[0m\u001b[1;33m,\u001b[0m \u001b[1;34m\"Sunda Pichai\"\u001b[0m\u001b[1;33m,\u001b[0m \u001b[1;33m[\u001b[0m \u001b[1;36m2\u001b[0m\u001b[1;33m,\u001b[0m \u001b[1;36m4\u001b[0m \u001b[1;33m]\u001b[0m \u001b[1;33m}\u001b[0m\u001b[1;33m\u001b[0m\u001b[0m\n\u001b[0m",
      "\u001b[1;31mTypeError\u001b[0m: unhashable type: 'list'"
     ]
    }
   ],
   "source": [
    "# Python sẽ báo lỗi nếu bạn đặt một biến khả biến trong Set\n",
    "# trường hợp tôi đặt một list trong Set\n",
    "mix_mutable_set = { \"Elon Musk\", \"Sunda Pichai\", [ 2, 4 ] }"
   ]
  },
  {
   "cell_type": "markdown",
   "metadata": {},
   "source": [
    "##### 2. Cách 2\n",
    "Tạo một empty set và thêm phần tử vào set"
   ]
  },
  {
   "cell_type": "code",
   "execution_count": 79,
   "metadata": {},
   "outputs": [],
   "source": [
    "foods = set()"
   ]
  },
  {
   "cell_type": "code",
   "execution_count": 80,
   "metadata": {},
   "outputs": [],
   "source": [
    "foods.add(\"Toast\")"
   ]
  },
  {
   "cell_type": "code",
   "execution_count": 81,
   "metadata": {},
   "outputs": [
    {
     "data": {
      "text/plain": [
       "{'Toast'}"
      ]
     },
     "execution_count": 81,
     "metadata": {},
     "output_type": "execute_result"
    }
   ],
   "source": [
    "foods"
   ]
  },
  {
   "cell_type": "markdown",
   "metadata": {},
   "source": [
    "**Chú ý:** Chúng ta không thể tạo một set rỗng bằng ngoặc kép - {}, Python mặc định hiểu đây là dictionary"
   ]
  },
  {
   "cell_type": "markdown",
   "metadata": {},
   "source": [
    "### II. Thay đổi giá trị của Set"
   ]
  },
  {
   "cell_type": "markdown",
   "metadata": {},
   "source": [
    "##### 1. add()\n",
    "Thêm một phần tử vào Set"
   ]
  },
  {
   "cell_type": "code",
   "execution_count": 82,
   "metadata": {},
   "outputs": [],
   "source": [
    "breakfast = { \"eggs\", \"bacon\", \"sausage\", \"toast\", \"cereal\", \"milk\", \"muffin\" }"
   ]
  },
  {
   "cell_type": "code",
   "execution_count": 83,
   "metadata": {},
   "outputs": [],
   "source": [
    "breakfast.add(\"coffee\")"
   ]
  },
  {
   "cell_type": "code",
   "execution_count": 84,
   "metadata": {},
   "outputs": [
    {
     "data": {
      "text/plain": [
       "{'bacon', 'cereal', 'coffee', 'eggs', 'milk', 'muffin', 'sausage', 'toast'}"
      ]
     },
     "execution_count": 84,
     "metadata": {},
     "output_type": "execute_result"
    }
   ],
   "source": [
    "breakfast"
   ]
  },
  {
   "cell_type": "markdown",
   "metadata": {},
   "source": [
    "##### 2. remove()\n",
    "Xóa một phần tử khỏi Set\n",
    "    - Throw error nếu phần tử không tồn tại trong Set"
   ]
  },
  {
   "cell_type": "code",
   "execution_count": 85,
   "metadata": {},
   "outputs": [],
   "source": [
    "breakfast = { \"eggs\", \"bacon\", \"sausage\", \"toast\", \"cereal\", \"milk\", \"muffin\" }"
   ]
  },
  {
   "cell_type": "code",
   "execution_count": 86,
   "metadata": {},
   "outputs": [],
   "source": [
    "breakfast.remove(\"sausage\")"
   ]
  },
  {
   "cell_type": "code",
   "execution_count": 87,
   "metadata": {},
   "outputs": [
    {
     "data": {
      "text/plain": [
       "{'bacon', 'cereal', 'eggs', 'milk', 'muffin', 'toast'}"
      ]
     },
     "execution_count": 87,
     "metadata": {},
     "output_type": "execute_result"
    }
   ],
   "source": [
    "breakfast"
   ]
  },
  {
   "cell_type": "code",
   "execution_count": 88,
   "metadata": {},
   "outputs": [
    {
     "ename": "KeyError",
     "evalue": "'pho'",
     "output_type": "error",
     "traceback": [
      "\u001b[1;31m---------------------------------------------------------------------------\u001b[0m",
      "\u001b[1;31mKeyError\u001b[0m                                  Traceback (most recent call last)",
      "\u001b[1;32m<ipython-input-88-214c86854fbf>\u001b[0m in \u001b[0;36m<module>\u001b[1;34m()\u001b[0m\n\u001b[1;32m----> 1\u001b[1;33m \u001b[0mbreakfast\u001b[0m\u001b[1;33m.\u001b[0m\u001b[0mremove\u001b[0m\u001b[1;33m(\u001b[0m\u001b[1;34m\"pho\"\u001b[0m\u001b[1;33m)\u001b[0m\u001b[1;33m\u001b[0m\u001b[0m\n\u001b[0m",
      "\u001b[1;31mKeyError\u001b[0m: 'pho'"
     ]
    }
   ],
   "source": [
    "breakfast.remove(\"pho\")"
   ]
  },
  {
   "cell_type": "markdown",
   "metadata": {},
   "source": [
    "##### 3. discard()\n",
    "    - Không throw error nếu phần tử không tồn tại trong Set"
   ]
  },
  {
   "cell_type": "code",
   "execution_count": 89,
   "metadata": {},
   "outputs": [],
   "source": [
    "breakfast = { \"eggs\", \"bacon\", \"sausage\", \"toast\", \"cereal\", \"milk\", \"muffin\" }"
   ]
  },
  {
   "cell_type": "code",
   "execution_count": 90,
   "metadata": {},
   "outputs": [],
   "source": [
    "breakfast.discard(\"bacon\")"
   ]
  },
  {
   "cell_type": "code",
   "execution_count": 91,
   "metadata": {},
   "outputs": [
    {
     "data": {
      "text/plain": [
       "{'cereal', 'eggs', 'milk', 'muffin', 'sausage', 'toast'}"
      ]
     },
     "execution_count": 91,
     "metadata": {},
     "output_type": "execute_result"
    }
   ],
   "source": [
    "breakfast"
   ]
  },
  {
   "cell_type": "code",
   "execution_count": 92,
   "metadata": {},
   "outputs": [],
   "source": [
    "breakfast.discard(\"pho\")"
   ]
  }
 ],
 "metadata": {
  "kernelspec": {
   "display_name": "Python 2",
   "language": "python",
   "name": "python2"
  },
  "language_info": {
   "codemirror_mode": {
    "name": "ipython",
    "version": 2
   },
   "file_extension": ".py",
   "mimetype": "text/x-python",
   "name": "python",
   "nbconvert_exporter": "python",
   "pygments_lexer": "ipython2",
   "version": "2.7.14"
  }
 },
 "nbformat": 4,
 "nbformat_minor": 2
}
