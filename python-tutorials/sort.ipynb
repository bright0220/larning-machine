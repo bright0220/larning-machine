{
 "cells": [
  {
   "cell_type": "markdown",
   "metadata": {},
   "source": [
    "### Bubble Sort"
   ]
  },
  {
   "cell_type": "code",
   "execution_count": 95,
   "metadata": {},
   "outputs": [],
   "source": [
    "numbers = [20, 10, 16, 6, 89]"
   ]
  },
  {
   "cell_type": "code",
   "execution_count": 96,
   "metadata": {},
   "outputs": [],
   "source": [
    "for i in range(0, len(numbers)):\n",
    "    for j in range(i+1, len(numbers)):\n",
    "        if numbers[i] < numbers[j]:\n",
    "            temp = numbers[j]\n",
    "            numbers[j] = numbers[i]\n",
    "            numbers[i] = temp\n",
    "            "
   ]
  },
  {
   "cell_type": "code",
   "execution_count": 97,
   "metadata": {
    "scrolled": true
   },
   "outputs": [
    {
     "data": {
      "text/plain": [
       "[89, 20, 16, 10, 6]"
      ]
     },
     "execution_count": 97,
     "metadata": {},
     "output_type": "execute_result"
    }
   ],
   "source": [
    "numbers"
   ]
  },
  {
   "cell_type": "markdown",
   "metadata": {},
   "source": [
    "Độ phức tạp"
   ]
  },
  {
   "attachments": {
    "image.png": {
     "image/png": "[encoded data removed]"
    }
   },
   "cell_type": "markdown",
   "metadata": {},
   "source": [
    "![image.png](attachment:image.png)"
   ]
  },
  {
   "cell_type": "markdown",
   "metadata": {},
   "source": [
    "### Insertion Sort"
   ]
  },
  {
   "cell_type": "code",
   "execution_count": 9,
   "metadata": {},
   "outputs": [],
   "source": [
    "numbers = [20, 10, 16, 6, 89]"
   ]
  },
  {
   "cell_type": "code",
   "execution_count": 7,
   "metadata": {},
   "outputs": [],
   "source": [
    "for i in range(len(numbers) -1):\n",
    "    if i > 0:\n",
    "        for j in range(i+1):\n",
    "            if numbers[i] < numbers[j]:\n",
    "                temp = numbers[i]\n",
    "                numbers[i] = numbers[j]\n",
    "                numbers[j] = temp\n",
    "                 "
   ]
  },
  {
   "cell_type": "code",
   "execution_count": 8,
   "metadata": {},
   "outputs": [
    {
     "data": {
      "text/plain": [
       "[6, 10, 16, 20, 89]"
      ]
     },
     "execution_count": 8,
     "metadata": {},
     "output_type": "execute_result"
    }
   ],
   "source": [
    "numbers"
   ]
  },
  {
   "cell_type": "markdown",
   "metadata": {},
   "source": [
    "Độ phức tạp"
   ]
  },
  {
   "cell_type": "code",
   "execution_count": null,
   "metadata": {},
   "outputs": [],
   "source": []
  },
  {
   "cell_type": "markdown",
   "metadata": {},
   "source": [
    "### Merge Sort"
   ]
  },
  {
   "cell_type": "markdown",
   "metadata": {},
   "source": [
    "Merge sort sử dụng giải thuật **divide and conquer.**"
   ]
  },
  {
   "cell_type": "code",
   "execution_count": 85,
   "metadata": {},
   "outputs": [],
   "source": [
    "numbers = [20, 10, 16, 6, 89, 1, 5, 9, 100]"
   ]
  },
  {
   "cell_type": "code",
   "execution_count": 86,
   "metadata": {},
   "outputs": [],
   "source": [
    "# Divide\n",
    "def divide(numbers, start, end):\n",
    "    if start == end:\n",
    "        return [numbers[start]]\n",
    "    else:\n",
    "        middle = (start + end) // 2\n",
    "        left_numbers = divide(numbers, start, middle) \n",
    "        right_numbers = divide(numbers, middle+1, end)\n",
    "        return conquer(numbers, left_numbers, right_numbers)"
   ]
  },
  {
   "cell_type": "code",
   "execution_count": 87,
   "metadata": {},
   "outputs": [],
   "source": [
    "# Sort\n",
    "def conquer(numbers, left_numbers, right_numbers):\n",
    "    new_nums = []\n",
    "    i = 0\n",
    "    j = 0\n",
    "    while i < len(left_numbers) and j < len(right_numbers):\n",
    "        if left_numbers[i] < right_numbers[j]:\n",
    "            new_nums.append(left_numbers[i])\n",
    "            i += 1\n",
    "        else:\n",
    "            new_nums.append(right_numbers[j])\n",
    "            j += 1\n",
    "    if i < len(left_numbers):\n",
    "        new_nums += left_numbers[i:]\n",
    "        \n",
    "    if j < len(right_numbers):\n",
    "        new_nums += right_numbers[j:]\n",
    "    return new_nums"
   ]
  },
  {
   "cell_type": "code",
   "execution_count": 88,
   "metadata": {},
   "outputs": [
    {
     "data": {
      "text/plain": [
       "[1, 5, 6, 9, 10, 16, 20, 89, 100]"
      ]
     },
     "execution_count": 88,
     "metadata": {},
     "output_type": "execute_result"
    }
   ],
   "source": [
    "divide(numbers, 0, len(numbers)-1)"
   ]
  },
  {
   "cell_type": "code",
   "execution_count": null,
   "metadata": {},
   "outputs": [],
   "source": []
  }
 ],
 "metadata": {
  "kernelspec": {
   "display_name": "Python 3",
   "language": "python",
   "name": "python3"
  },
  "language_info": {
   "codemirror_mode": {
    "name": "ipython",
    "version": 3
   },
   "file_extension": ".py",
   "mimetype": "text/x-python",
   "name": "python",
   "nbconvert_exporter": "python",
   "pygments_lexer": "ipython3",
   "version": "3.8.2"
  }
 },
 "nbformat": 4,
 "nbformat_minor": 4
}
