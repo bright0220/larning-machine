{
 "cells": [
  {
   "cell_type": "markdown",
   "metadata": {},
   "source": [
    "## I. Dictionary\n",
    "----"
   ]
  },
  {
   "cell_type": "markdown",
   "metadata": {},
   "source": [
    "Xem thêm về [Dictionary](https://www.tutorialspoint.com/python/python_dictionary.htm)"
   ]
  },
  {
   "cell_type": "markdown",
   "metadata": {},
   "source": [
    "![Dictionary](https://lh3.googleusercontent.com/vUkmN64tdZFJ3OzPlMm389Nm5NN_mBQAlSDZ8_MaSwN39nyWqky-qMY-IJzbLBRL97UkB2Unkkt-Ksom1aUY0s2k5RsfOz0Z9J9RFdlYUdCdG19WmWgnu5UsSSpV2e9HUryO6xvroTDb8Ard6spKioV8RYtm9zkBMlS6tC7y-euF7-HWa_nYw8UvQ-K8ZP93Ll3En_E9wlPTttPbNur4_rJfOkz9xUlXyxq3H_JvcDPYeV9Biutitv8MOOLFHqrfSzolrLFrOZKMIQQ5H0OrNLrJZ0YGH97g3ey7jHhKQ6GTjRBnFmsDKTLwwef-ZvB0uZVILYNfI1GN_GEREtibOAc5uYsm3CXSLW9WzAgDiEm7cwp5lrgFAzp1HLaIVqIMoVWYrXToNiDFwfYsQwWu9QXDk2aQcdDo_KlCmyhzhvi69RlWbdDLBOrueWqOT43av32lwGx9AI_mtXT-kRDESDSO_OMlivIxs8CbNkYb53zjxS9wP9PBY3Ntk0L5VZd59der3CTVI9Z9jeqqZWlsr5_tPI_ZG0wEX6cnJ5qvlnXmyyI9sxORmHf5qQutSa6Xa5ahbKXEu_fu7qPbitTyw926l6gE8YOwYrroWuPGAUwL7cR59530Rxbsl37q4wVC_DRyucfeAxDa6JbmtCHfFVnKd5gIL8S83g=w1000-h728-no)"
   ]
  },
  {
   "cell_type": "markdown",
   "metadata": {},
   "source": [
    "Dictionary trong tiếng Việt là từ điển. Một quyển từ điển sẽ bao gồm nhiều **từ(key)** được diễn giải **ý nghĩa(value)**, dictionary trong python cũng tương tự bao gồm nhiều **cặp key-value**. Key và Value được phân cách nhau bởi dấu hai chấm (:), các cặp key-value được phân cách nhau bởi dấu phẩy (,).\n",
    "\n",
    "Dictionary là kiểu dữ liệu **khả biến(mutable).**"
   ]
  },
  {
   "cell_type": "markdown",
   "metadata": {},
   "source": [
    "### 1. Khởi tạo một Dictionary"
   ]
  },
  {
   "cell_type": "markdown",
   "metadata": {},
   "source": [
    "##### a. Cách 1"
   ]
  },
  {
   "cell_type": "code",
   "execution_count": 87,
   "metadata": {},
   "outputs": [],
   "source": [
    "soobin = { \"age\": 26, \"song\": [\"Phia sau mot co gai\"] }"
   ]
  },
  {
   "cell_type": "code",
   "execution_count": 88,
   "metadata": {},
   "outputs": [],
   "source": [
    "sontung = {\n",
    "        \"name\": \"Son Tung MTP\", \n",
    "        \"birth year\": 1994, \n",
    "        \"song\": [ \n",
    "            \"Lac Troi\", \n",
    "            \"Noi nay co anh\", \n",
    "            \"Chung ta khong thuoc ve nhau\"\n",
    "        ],\n",
    "        \"mother\": { \n",
    "            \"name\": \"Pham Thi Thanh Binh\"\n",
    "        }\n",
    "    }"
   ]
  },
  {
   "cell_type": "code",
   "execution_count": 89,
   "metadata": {},
   "outputs": [],
   "source": [
    "adresses = { 1: \"Luong Ngoc Quyen\", 2: \"Xuan Thuy\", 3: \"Cau Giay\" }"
   ]
  },
  {
   "cell_type": "code",
   "execution_count": 90,
   "metadata": {},
   "outputs": [],
   "source": [
    "rooms = { (\"pillows\" , \"carpet\", \"computer\"): \"bedroom\" }"
   ]
  },
  {
   "cell_type": "markdown",
   "metadata": {},
   "source": [
    "###### b. Cách 2"
   ]
  },
  {
   "cell_type": "code",
   "execution_count": 91,
   "metadata": {},
   "outputs": [
    {
     "data": {
      "text/plain": [
       "{'albums': ['Dong', 'Vet Mua', 'Yeu Xa'], 'name': 'Vu Cat Tuong', 'year': 1992}"
      ]
     },
     "execution_count": 91,
     "metadata": {},
     "output_type": "execute_result"
    }
   ],
   "source": [
    "dict([(\"name\", \"Vu Cat Tuong\"), (\"year\", 1992), (\"albums\", [\"Dong\", \"Vet Mua\", \"Yeu Xa\"])])"
   ]
  },
  {
   "cell_type": "markdown",
   "metadata": {},
   "source": [
    "##### c. Cách 3\n",
    "Trong trường hợp các keys đều là chuỗi"
   ]
  },
  {
   "cell_type": "code",
   "execution_count": 92,
   "metadata": {},
   "outputs": [
    {
     "data": {
      "text/plain": [
       "{'activities': ['skipping rope',\n",
       "  'playting see-saw',\n",
       "  'swinging',\n",
       "  'flying kite',\n",
       "  'blowing bubbies',\n",
       "  'sliding'],\n",
       " 'type': 'zoo'}"
      ]
     },
     "execution_count": 92,
     "metadata": {},
     "output_type": "execute_result"
    }
   ],
   "source": [
    "dict(type=\"zoo\", activities=[\"skipping rope\", \"playting see-saw\", \"swinging\", \"flying kite\", \"blowing bubbies\", \"sliding\"])"
   ]
  },
  {
   "cell_type": "markdown",
   "metadata": {},
   "source": [
    "##### d. Cách 4"
   ]
  },
  {
   "cell_type": "code",
   "execution_count": 93,
   "metadata": {},
   "outputs": [
    {
     "data": {
      "text/plain": [
       "{'Duong': 'Duong dep trai', 'Kien': 'Kien dep trai'}"
      ]
     },
     "execution_count": 93,
     "metadata": {},
     "output_type": "execute_result"
    }
   ],
   "source": [
    "{x: x + \" dep trai\" for x in [\"Duong\", \"Kien\"]}"
   ]
  },
  {
   "cell_type": "markdown",
   "metadata": {},
   "source": [
    "### 2. Kiểu dữ liệu của Key và Value"
   ]
  },
  {
   "cell_type": "markdown",
   "metadata": {},
   "source": [
    "Ta có thể kết luận rằng, Kiểu dữ liệu của **key** có thể là bất kỳ kiểu **bất biến(immutable)** nào ví dụ như **chuỗi(string) hay số**, thậm chí **tuple**. \n",
    "\n",
    "Tuple có thể làm key nhưng chỉ trong trường hợp **tuple** đó **chứa** các giá trị bất biến **như chuỗi, số hay tuple.**\n",
    "\n",
    "Kiểu dữ liệu của **value** vô cùng đa dạng có thể là bất cứ kiểu dữ liệu nào"
   ]
  },
  {
   "cell_type": "code",
   "execution_count": 95,
   "metadata": {
    "scrolled": true
   },
   "outputs": [
    {
     "ename": "TypeError",
     "evalue": "unhashable type: 'list'",
     "output_type": "error",
     "traceback": [
      "\u001b[1;31m---------------------------------------------------------------------------\u001b[0m",
      "\u001b[1;31mTypeError\u001b[0m                                 Traceback (most recent call last)",
      "\u001b[1;32m<ipython-input-95-9e530ba59a2d>\u001b[0m in \u001b[0;36m<module>\u001b[1;34m()\u001b[0m\n\u001b[0;32m      1\u001b[0m \u001b[1;31m# Trường hợp dùng tuple có chứa giá trị khả biến làm key -> xảy ra lỗi\u001b[0m\u001b[1;33m\u001b[0m\u001b[1;33m\u001b[0m\u001b[0m\n\u001b[1;32m----> 2\u001b[1;33m \u001b[0mrooms2\u001b[0m \u001b[1;33m=\u001b[0m \u001b[1;33m{\u001b[0m \u001b[1;33m(\u001b[0m\u001b[1;34m\"pillows\"\u001b[0m \u001b[1;33m,\u001b[0m \u001b[1;34m\"carpet\"\u001b[0m\u001b[1;33m,\u001b[0m \u001b[1;33m[\u001b[0m\u001b[1;33m]\u001b[0m \u001b[1;33m)\u001b[0m\u001b[1;33m:\u001b[0m \u001b[1;34m\"bedroom\"\u001b[0m \u001b[1;33m}\u001b[0m\u001b[1;33m\u001b[0m\u001b[0m\n\u001b[0m",
      "\u001b[1;31mTypeError\u001b[0m: unhashable type: 'list'"
     ]
    }
   ],
   "source": [
    "# Trường hợp dùng tuple có chứa giá trị khả biến làm key -> xảy ra lỗi\n",
    "rooms2 = { (\"pillows\" , \"carpet\", [] ): \"bedroom\" }"
   ]
  },
  {
   "cell_type": "markdown",
   "metadata": {},
   "source": [
    "### 3. Truy cập giá trị trong Dictionary\n",
    "\n",
    "    - Trả về value tương ứng với key\n",
    "    - Throw error nếu key không tồn tại"
   ]
  },
  {
   "cell_type": "code",
   "execution_count": 98,
   "metadata": {},
   "outputs": [
    {
     "data": {
      "text/plain": [
       "['Lac Troi', 'Noi nay co anh', 'Chung ta khong thuoc ve nhau']"
      ]
     },
     "execution_count": 98,
     "metadata": {},
     "output_type": "execute_result"
    }
   ],
   "source": [
    "# Lấy ra danh sách các bài hát của Son Tung\n",
    "sontung[\"song\"]"
   ]
  },
  {
   "cell_type": "code",
   "execution_count": 99,
   "metadata": {},
   "outputs": [
    {
     "ename": "KeyError",
     "evalue": "'born'",
     "output_type": "error",
     "traceback": [
      "\u001b[1;31m---------------------------------------------------------------------------\u001b[0m",
      "\u001b[1;31mKeyError\u001b[0m                                  Traceback (most recent call last)",
      "\u001b[1;32m<ipython-input-99-3c9a6324381a>\u001b[0m in \u001b[0;36m<module>\u001b[1;34m()\u001b[0m\n\u001b[0;32m      1\u001b[0m \u001b[1;31m# Throw error trong trường hợp key born không tồn tại\u001b[0m\u001b[1;33m\u001b[0m\u001b[1;33m\u001b[0m\u001b[0m\n\u001b[1;32m----> 2\u001b[1;33m \u001b[0msontung\u001b[0m\u001b[1;33m[\u001b[0m\u001b[1;34m\"born\"\u001b[0m\u001b[1;33m]\u001b[0m\u001b[1;33m\u001b[0m\u001b[0m\n\u001b[0m",
      "\u001b[1;31mKeyError\u001b[0m: 'born'"
     ]
    }
   ],
   "source": [
    "# Throw error trong trường hợp key born không tồn tại\n",
    "sontung[\"born\"]"
   ]
  },
  {
   "cell_type": "code",
   "execution_count": 100,
   "metadata": {},
   "outputs": [],
   "source": [
    "# Tìm tuổi của SooBin"
   ]
  },
  {
   "cell_type": "code",
   "execution_count": 101,
   "metadata": {},
   "outputs": [
    {
     "data": {
      "text/plain": [
       "26"
      ]
     },
     "execution_count": 101,
     "metadata": {},
     "output_type": "execute_result"
    }
   ],
   "source": [
    "soobin[\"age\"]"
   ]
  },
  {
   "cell_type": "code",
   "execution_count": 102,
   "metadata": {},
   "outputs": [
    {
     "data": {
      "text/plain": [
       "{'name': 'Pham Thi Thanh Binh'}"
      ]
     },
     "execution_count": 102,
     "metadata": {},
     "output_type": "execute_result"
    }
   ],
   "source": [
    "# Tìm mẹ của Sơn Tùng\n",
    "sontung[\"mother\"]"
   ]
  },
  {
   "cell_type": "code",
   "execution_count": 103,
   "metadata": {},
   "outputs": [
    {
     "data": {
      "text/plain": [
       "'Pham Thi Thanh Binh'"
      ]
     },
     "execution_count": 103,
     "metadata": {},
     "output_type": "execute_result"
    }
   ],
   "source": [
    "# Lấy ra tên bác\n",
    "sontung[\"mother\"][\"name\"]"
   ]
  },
  {
   "cell_type": "markdown",
   "metadata": {},
   "source": [
    "Trường hợp 2 key giống hệt nhau, khi truy cập các phần tử trong đó ta sẽ thu được value của key cuối cùng."
   ]
  },
  {
   "cell_type": "code",
   "execution_count": 104,
   "metadata": {},
   "outputs": [],
   "source": [
    "Ngoc = {\"name\": \"Nguyen Ba Ngoc\", \"name\": \"John Ngoc\"}"
   ]
  },
  {
   "cell_type": "code",
   "execution_count": 105,
   "metadata": {},
   "outputs": [
    {
     "data": {
      "text/plain": [
       "'John Ngoc'"
      ]
     },
     "execution_count": 105,
     "metadata": {},
     "output_type": "execute_result"
    }
   ],
   "source": [
    "Ngoc[\"name\"]"
   ]
  },
  {
   "cell_type": "code",
   "execution_count": 106,
   "metadata": {},
   "outputs": [
    {
     "data": {
      "text/plain": [
       "['birth year', 'mother', 'name', 'song']"
      ]
     },
     "execution_count": 106,
     "metadata": {},
     "output_type": "execute_result"
    }
   ],
   "source": [
    "list(sontung)"
   ]
  },
  {
   "cell_type": "markdown",
   "metadata": {},
   "source": [
    "### 4. Thay đổi Dictionary"
   ]
  },
  {
   "cell_type": "markdown",
   "metadata": {},
   "source": [
    "##### 1. Cập nhật value"
   ]
  },
  {
   "cell_type": "markdown",
   "metadata": {},
   "source": [
    "Vì dictionary là **khả biến** nên khi thay đổi giá trị của nó đồng nghĩa với việc thay đổi trực tiếp giá trị trên ô nhớ mà không phải tạo ra một ô nhớ mới."
   ]
  },
  {
   "cell_type": "code",
   "execution_count": 107,
   "metadata": {},
   "outputs": [],
   "source": [
    "ironman = {\"name\": \"Tony Stark\", \"publisher\": \"Unknow\"}"
   ]
  },
  {
   "cell_type": "code",
   "execution_count": 108,
   "metadata": {},
   "outputs": [],
   "source": [
    "ironman[\"publisher\"] = \"Marvel Comics\""
   ]
  },
  {
   "cell_type": "code",
   "execution_count": 109,
   "metadata": {},
   "outputs": [
    {
     "data": {
      "text/plain": [
       "{'name': 'Tony Stark', 'publisher': 'Marvel Comics'}"
      ]
     },
     "execution_count": 109,
     "metadata": {},
     "output_type": "execute_result"
    }
   ],
   "source": [
    "ironman"
   ]
  },
  {
   "cell_type": "code",
   "execution_count": 110,
   "metadata": {},
   "outputs": [],
   "source": [
    "ha = { \"name\": \"Ha\", \"name\":\"Alex\"}"
   ]
  },
  {
   "cell_type": "code",
   "execution_count": 111,
   "metadata": {},
   "outputs": [],
   "source": [
    "ha[\"name\"] = \"Jeanine\""
   ]
  },
  {
   "cell_type": "code",
   "execution_count": 112,
   "metadata": {},
   "outputs": [
    {
     "data": {
      "text/plain": [
       "{'name': 'Jeanine'}"
      ]
     },
     "execution_count": 112,
     "metadata": {},
     "output_type": "execute_result"
    }
   ],
   "source": [
    "ha"
   ]
  },
  {
   "cell_type": "markdown",
   "metadata": {},
   "source": [
    "##### 2. Xóa đi phần tử"
   ]
  },
  {
   "cell_type": "markdown",
   "metadata": {},
   "source": [
    "Xóa đi 1 phần tử"
   ]
  },
  {
   "cell_type": "code",
   "execution_count": 113,
   "metadata": {},
   "outputs": [],
   "source": [
    "zara = { \"name\": \"Zara\", \"founded\" : 1974, \"revenue\": \"18 billion USD\" }"
   ]
  },
  {
   "cell_type": "code",
   "execution_count": 114,
   "metadata": {},
   "outputs": [],
   "source": [
    "del zara[\"founded\"]"
   ]
  },
  {
   "cell_type": "code",
   "execution_count": 115,
   "metadata": {},
   "outputs": [
    {
     "data": {
      "text/plain": [
       "{'name': 'Zara', 'revenue': '18 billion USD'}"
      ]
     },
     "execution_count": 115,
     "metadata": {},
     "output_type": "execute_result"
    }
   ],
   "source": [
    "zara"
   ]
  },
  {
   "cell_type": "markdown",
   "metadata": {},
   "source": [
    "Xóa tất cả các phần tử"
   ]
  },
  {
   "cell_type": "code",
   "execution_count": 116,
   "metadata": {},
   "outputs": [],
   "source": [
    "apple= { \"name\": \"Apple\", \"founded\": 1976, \"stock price\": \"$210\" }"
   ]
  },
  {
   "cell_type": "code",
   "execution_count": 117,
   "metadata": {},
   "outputs": [],
   "source": [
    "apple.clear()"
   ]
  },
  {
   "cell_type": "code",
   "execution_count": 118,
   "metadata": {},
   "outputs": [
    {
     "data": {
      "text/plain": [
       "{}"
      ]
     },
     "execution_count": 118,
     "metadata": {},
     "output_type": "execute_result"
    }
   ],
   "source": [
    "apple"
   ]
  },
  {
   "cell_type": "markdown",
   "metadata": {},
   "source": [
    "Xóa hẳn Dictionary\n"
   ]
  },
  {
   "cell_type": "code",
   "execution_count": 119,
   "metadata": {},
   "outputs": [],
   "source": [
    "PMG = { \"name\": \"PMG\", \"CEO\": \"Jeanie Hood\", \"revenue\": \"110.8 Billion USD\" }"
   ]
  },
  {
   "cell_type": "code",
   "execution_count": 120,
   "metadata": {},
   "outputs": [],
   "source": [
    "del PMG"
   ]
  },
  {
   "cell_type": "code",
   "execution_count": 121,
   "metadata": {},
   "outputs": [
    {
     "ename": "NameError",
     "evalue": "name 'PMG' is not defined",
     "output_type": "error",
     "traceback": [
      "\u001b[1;31m---------------------------------------------------------------------------\u001b[0m",
      "\u001b[1;31mNameError\u001b[0m                                 Traceback (most recent call last)",
      "\u001b[1;32m<ipython-input-121-dc0f8ac591c2>\u001b[0m in \u001b[0;36m<module>\u001b[1;34m()\u001b[0m\n\u001b[1;32m----> 1\u001b[1;33m \u001b[0mPMG\u001b[0m\u001b[1;33m\u001b[0m\u001b[0m\n\u001b[0m",
      "\u001b[1;31mNameError\u001b[0m: name 'PMG' is not defined"
     ]
    }
   ],
   "source": [
    "PMG"
   ]
  },
  {
   "cell_type": "markdown",
   "metadata": {},
   "source": [
    "### 4. Các phương thức"
   ]
  },
  {
   "cell_type": "code",
   "execution_count": null,
   "metadata": {},
   "outputs": [],
   "source": []
  },
  {
   "cell_type": "markdown",
   "metadata": {},
   "source": [
    "### 5. Các hàm"
   ]
  },
  {
   "cell_type": "code",
   "execution_count": null,
   "metadata": {},
   "outputs": [],
   "source": []
  }
 ],
 "metadata": {
  "kernelspec": {
   "display_name": "Python 2",
   "language": "python",
   "name": "python2"
  },
  "language_info": {
   "codemirror_mode": {
    "name": "ipython",
    "version": 2
   },
   "file_extension": ".py",
   "mimetype": "text/x-python",
   "name": "python",
   "nbconvert_exporter": "python",
   "pygments_lexer": "ipython2",
   "version": "2.7.14"
  }
 },
 "nbformat": 4,
 "nbformat_minor": 2
}
